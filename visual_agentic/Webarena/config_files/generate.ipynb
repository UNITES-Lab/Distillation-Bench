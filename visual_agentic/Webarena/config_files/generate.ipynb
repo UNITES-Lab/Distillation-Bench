{
 "cells": [
  {
   "cell_type": "code",
   "execution_count": 1,
   "metadata": {},
   "outputs": [
    {
     "name": "stdout",
     "output_type": "stream",
     "text": [
      "{'sites': ['shopping_admin'], 'task_id': 0, 'require_login': True, 'storage_state': './.auth/shopping_admin_state.json', 'start_url': '__SHOPPING_ADMIN__', 'geolocation': None, 'intent_template': 'What is the top-{{n}} best-selling product in {{year}}', 'instantiation_dict': {'n': 1, 'year': 2022}, 'intent': 'What is the top-1 best-selling product in 2022', 'require_reset': False, 'eval': {'eval_types': ['string_match'], 'reference_answers': {'exact_match': 'Quest Lumaflex™ Band'}, 'reference_url': '', 'program_html': [], 'string_note': '', 'reference_answer_raw_annotation': 'Quest Lumaflex™ Band'}, 'intent_template_id': 279}\n"
     ]
    }
   ],
   "source": [
    "import json\n",
    "\n",
    "data = json.load(open(\"test.raw.json\"))\n",
    "print(data[0])"
   ]
  },
  {
   "cell_type": "code",
   "execution_count": 2,
   "metadata": {},
   "outputs": [
    {
     "name": "stdout",
     "output_type": "stream",
     "text": [
      "{'multi': [97, 265, 266, 267, 268, 424, 425, 426, 427, 428, 429, 430, 552, 553, 554, 555, 556, 557, 558, 559, 560, 561, 562, 563, 564, 565, 566, 671, 672, 673, 674, 675, 681, 682, 683, 684, 685, 686, 687, 688, 737, 738, 739, 740, 741, 759, 760, 791], 'shopping_admin': [0, 1, 2, 3, 4, 5, 6, 11, 12, 13, 14, 15, 41, 42, 43, 62, 63, 64, 65, 77, 78, 79, 94, 95, 107, 108, 109, 110, 111, 112, 113, 114, 115, 116, 119, 120, 121, 122, 123, 127, 128, 129, 130, 131, 157, 183, 184, 185, 186, 187, 193, 194, 195, 196, 197, 198, 199, 200, 201, 202, 203, 204, 208, 209, 210, 211, 212, 213, 214, 215, 216, 217, 243, 244, 245, 246, 247, 288, 289, 290, 291, 292, 344, 345, 346, 347, 348, 374, 375, 423, 453, 454, 455, 456, 457, 458, 459, 460, 461, 462, 463, 464, 470, 471, 472, 473, 474, 486, 487, 488, 489, 490, 491, 492, 493, 494, 495, 496, 497, 498, 499, 500, 501, 502, 503, 504, 505, 538, 539, 540, 541, 542, 543, 544, 545, 546, 547, 548, 549, 550, 551, 676, 677, 678, 679, 680, 694, 695, 696, 697, 698, 699, 700, 701, 702, 703, 704, 705, 706, 707, 708, 709, 710, 711, 712, 713, 768, 769, 770, 771, 772, 773, 774, 775, 776, 777, 778, 779, 780, 781, 782, 790], 'map': [7, 8, 9, 10, 16, 17, 18, 19, 20, 32, 33, 34, 35, 36, 37, 38, 39, 40, 52, 53, 54, 55, 56, 57, 58, 59, 60, 61, 70, 71, 72, 73, 74, 75, 76, 80, 81, 82, 83, 84, 85, 86, 87, 88, 89, 90, 91, 92, 93, 98, 99, 100, 101, 137, 138, 139, 140, 151, 152, 153, 154, 155, 218, 219, 220, 221, 222, 223, 224, 236, 237, 248, 249, 250, 251, 252, 253, 254, 255, 256, 257, 287, 356, 363, 364, 365, 366, 367, 369, 370, 371, 372, 373, 377, 378, 379, 380, 381, 382, 383, 757, 758, 761, 762, 763, 764, 765, 766, 767], 'shopping': [21, 22, 23, 24, 25, 26, 47, 48, 49, 50, 51, 96, 117, 118, 124, 125, 126, 141, 142, 143, 144, 145, 146, 147, 148, 149, 150, 158, 159, 160, 161, 162, 163, 164, 165, 166, 167, 188, 189, 190, 191, 192, 225, 226, 227, 228, 229, 230, 231, 232, 233, 234, 235, 238, 239, 240, 241, 242, 260, 261, 262, 263, 264, 269, 270, 271, 272, 273, 274, 275, 276, 277, 278, 279, 280, 281, 282, 283, 284, 285, 286, 298, 299, 300, 301, 302, 313, 319, 320, 321, 322, 323, 324, 325, 326, 327, 328, 329, 330, 331, 332, 333, 334, 335, 336, 337, 338, 351, 352, 353, 354, 355, 358, 359, 360, 361, 362, 368, 376, 384, 385, 386, 387, 388, 431, 432, 433, 434, 435, 436, 437, 438, 439, 440, 465, 466, 467, 468, 469, 506, 507, 508, 509, 510, 511, 512, 513, 514, 515, 516, 517, 518, 519, 520, 521, 528, 529, 530, 531, 532, 571, 572, 573, 574, 575, 585, 586, 587, 588, 589, 653, 654, 655, 656, 657, 689, 690, 691, 692, 693, 792, 793, 794, 795, 796, 797, 798], 'reddit': [27, 28, 29, 30, 31, 66, 67, 68, 69, 399, 400, 401, 402, 403, 404, 405, 406, 407, 408, 409, 410, 580, 581, 582, 583, 584, 595, 596, 597, 598, 599, 600, 601, 602, 603, 604, 605, 606, 607, 608, 609, 610, 611, 612, 613, 614, 615, 616, 617, 618, 619, 620, 621, 622, 623, 624, 625, 626, 627, 628, 629, 630, 631, 632, 633, 634, 635, 636, 637, 638, 639, 640, 641, 642, 643, 644, 645, 646, 647, 648, 649, 650, 651, 652, 714, 715, 716, 717, 718, 719, 720, 721, 722, 723, 724, 725, 726, 727, 728, 729, 730, 731, 732, 733, 734, 735], 'gitlab': [44, 45, 46, 102, 103, 104, 105, 106, 132, 133, 134, 135, 136, 156, 168, 169, 170, 171, 172, 173, 174, 175, 176, 177, 178, 179, 180, 181, 182, 205, 206, 207, 258, 259, 293, 294, 295, 296, 297, 303, 304, 305, 306, 307, 308, 309, 310, 311, 312, 314, 315, 316, 317, 318, 339, 340, 341, 342, 343, 349, 350, 357, 389, 390, 391, 392, 393, 394, 395, 396, 397, 398, 411, 412, 413, 414, 415, 416, 417, 418, 419, 420, 421, 422, 441, 442, 443, 444, 445, 446, 447, 448, 449, 450, 451, 452, 475, 476, 477, 478, 479, 480, 481, 482, 483, 484, 485, 522, 523, 524, 525, 526, 527, 533, 534, 535, 536, 537, 567, 568, 569, 570, 576, 577, 578, 579, 590, 591, 592, 593, 594, 658, 659, 660, 661, 662, 663, 664, 665, 666, 667, 668, 669, 670, 736, 742, 743, 744, 745, 746, 747, 748, 749, 750, 751, 752, 753, 754, 755, 756, 783, 784, 785, 786, 787, 788, 789, 799, 800, 801, 802, 803, 804, 805, 806, 807, 808, 809, 810, 811]}\n",
      "multi 48\n",
      "shopping_admin 182\n",
      "map 109\n",
      "shopping 187\n",
      "reddit 106\n",
      "gitlab 180\n"
     ]
    }
   ],
   "source": [
    "mapping = {\"multi\": []}\n",
    "for item in data:\n",
    "    if len(item[\"sites\"]) == 1:\n",
    "        if item[\"sites\"][0] not in mapping:\n",
    "            mapping[item[\"sites\"][0]] = []\n",
    "        mapping[item[\"sites\"][0]].append(item[\"task_id\"])\n",
    "    else:\n",
    "        mapping[\"multi\"].append(item[\"task_id\"])\n",
    "print(mapping)\n",
    "for key in mapping:\n",
    "    print(key, len(mapping[key]))"
   ]
  },
  {
   "cell_type": "code",
   "execution_count": 3,
   "metadata": {},
   "outputs": [],
   "source": [
    "url_map = {\n",
    "    \"__SHOPPING__\": \"http://127.0.0.1:7770\",\n",
    "    \"__SHOPPING_ADMIN__\": \"http://127.0.0.1:7780/admin\",\n",
    "    \"__REDDIT__\": \"http://127.0.0.1:9999/forums/all\",\n",
    "    \"__GITLAB__\": \"http://127.0.0.1:8023/explore\",\n",
    "    \"__MAP__\": \"http://127.0.0.1:4000\",\n",
    "    \"__WIKIPEDIA__\": \"http://127.0.0.1:8888/wikipedia_en_all_maxi_2022-05/A/User:The_other_Kiwix_guy/Landing\",\n",
    "    \"__HOMEPAGE__\": \"http://127.0.0.1:4399\",\n",
    "}\n",
    "\n",
    "\n",
    "def replace_url(item):\n",
    "    if isinstance(item, dict):\n",
    "        for key, value in item.items():\n",
    "            if isinstance(value, str):\n",
    "                for k, v in url_map.items():\n",
    "                    item[key] = item[key].replace(k, v)\n",
    "            else:\n",
    "                replace_url(value)\n",
    "    elif isinstance(item, list):\n",
    "        for i in item:\n",
    "            replace_url(i)\n",
    "\n",
    "\n",
    "for item in data:\n",
    "    with open(f\"tasks/{item['task_id']}.json\", \"w\") as f:\n",
    "        try:\n",
    "            replace_url(item)\n",
    "            json.dump(item, f)\n",
    "        except KeyError:\n",
    "            print(f\"Unknown start_url: {item['start_url']}\")\n",
    "            json.dump(item, f)"
   ]
  },
  {
   "cell_type": "code",
   "execution_count": 17,
   "metadata": {},
   "outputs": [],
   "source": []
  },
  {
   "cell_type": "code",
   "execution_count": 4,
   "metadata": {},
   "outputs": [
    {
     "ename": "NameError",
     "evalue": "name 'os' is not defined",
     "output_type": "error",
     "traceback": [
      "\u001b[0;31m---------------------------------------------------------------------------\u001b[0m",
      "\u001b[0;31mNameError\u001b[0m                                 Traceback (most recent call last)",
      "Cell \u001b[0;32mIn[4], line 1\u001b[0m\n\u001b[0;32m----> 1\u001b[0m \u001b[38;5;28mprint\u001b[39m(\u001b[38;5;124mf\u001b[39m\u001b[38;5;124m\"\u001b[39m\u001b[38;5;124mPUBLIC_HOSTNAME: \u001b[39m\u001b[38;5;132;01m{\u001b[39;00m\u001b[43mos\u001b[49m\u001b[38;5;241m.\u001b[39menviron\u001b[38;5;241m.\u001b[39mget(\u001b[38;5;124m'\u001b[39m\u001b[38;5;124mPUBLIC_HOSTNAME\u001b[39m\u001b[38;5;124m'\u001b[39m)\u001b[38;5;132;01m}\u001b[39;00m\u001b[38;5;124m\"\u001b[39m)\n",
      "\u001b[0;31mNameError\u001b[0m: name 'os' is not defined"
     ]
    }
   ],
   "source": [
    "print(f\"PUBLIC_HOSTNAME: {os.environ.get('PUBLIC_HOSTNAME')}\")"
   ]
  },
  {
   "cell_type": "code",
   "execution_count": 5,
   "metadata": {},
   "outputs": [
    {
     "ename": "ModuleNotFoundError",
     "evalue": "No module named 'browser_env'",
     "output_type": "error",
     "traceback": [
      "\u001b[0;31m---------------------------------------------------------------------------\u001b[0m",
      "\u001b[0;31mModuleNotFoundError\u001b[0m                       Traceback (most recent call last)",
      "Cell \u001b[0;32mIn[5], line 6\u001b[0m\n\u001b[1;32m      1\u001b[0m \u001b[38;5;124;03m\"\"\"Replace the website placeholders with website domains from env_config\u001b[39;00m\n\u001b[1;32m      2\u001b[0m \u001b[38;5;124;03mGenerate the test data\"\"\"\u001b[39;00m\n\u001b[1;32m      4\u001b[0m \u001b[38;5;28;01mimport\u001b[39;00m \u001b[38;5;21;01mjson\u001b[39;00m\n\u001b[0;32m----> 6\u001b[0m \u001b[38;5;28;01mfrom\u001b[39;00m \u001b[38;5;21;01mbrowser_env\u001b[39;00m\u001b[38;5;21;01m.\u001b[39;00m\u001b[38;5;21;01menv_config\u001b[39;00m \u001b[38;5;28;01mimport\u001b[39;00m \u001b[38;5;241m*\u001b[39m\n\u001b[1;32m      8\u001b[0m \u001b[38;5;28;01mimport\u001b[39;00m \u001b[38;5;21;01mos\u001b[39;00m\n\u001b[1;32m     10\u001b[0m \u001b[38;5;66;03m# 手动设置环境变量\u001b[39;00m\n",
      "\u001b[0;31mModuleNotFoundError\u001b[0m: No module named 'browser_env'"
     ]
    }
   ],
   "source": [
    "\"\"\"Replace the website placeholders with website domains from env_config\n",
    "Generate the test data\"\"\"\n",
    "\n",
    "import json\n",
    "\n",
    "from browser_env.env_config import *\n",
    "\n",
    "import os\n",
    "\n",
    "# 手动设置环境变量\n",
    "os.environ[\"PUBLIC_HOSTNAME\"] = \"127.0.0.1\"\n",
    "os.environ[\"SHOPPING\"] = f\"http://{os.environ['PUBLIC_HOSTNAME']}:7770\"\n",
    "os.environ[\"SHOPPING_ADMIN\"] = f\"http://{os.environ['PUBLIC_HOSTNAME']}:7780/admin\"\n",
    "os.environ[\"REDDIT\"] = f\"http://{os.environ['PUBLIC_HOSTNAME']}:9999\"\n",
    "os.environ[\"GITLAB\"] = f\"http://{os.environ['PUBLIC_HOSTNAME']}:8023\"\n",
    "os.environ[\"WIKIPEDIA\"] = f\"http://{os.environ['PUBLIC_HOSTNAME']}:8888/wikipedia_en_all_maxi_2022-05/A/User:The_other_Kiwix_guy/Landing\"\n",
    "os.environ[\"MAP\"] = f\"http://{os.environ['PUBLIC_HOSTNAME']}:4000\"\n",
    "os.environ[\"HOMEPAGE\"] = f\"http://{os.environ['PUBLIC_HOSTNAME']}:4399\"\n",
    "\n",
    "\n",
    "def main() -> None:\n",
    "    with open(\"test.raw.json\", \"r\") as f:\n",
    "        raw = f.read()\n",
    "    raw = raw.replace(\"__GITLAB__\", GITLAB)\n",
    "    raw = raw.replace(\"__REDDIT__\", REDDIT)\n",
    "    raw = raw.replace(\"__SHOPPING__\", SHOPPING)\n",
    "    raw = raw.replace(\"__SHOPPING_ADMIN__\", SHOPPING_ADMIN)\n",
    "    raw = raw.replace(\"__WIKIPEDIA__\", WIKIPEDIA)\n",
    "    raw = raw.replace(\"__MAP__\", MAP)\n",
    "    print(SHOPPING_ADMIN)\n",
    "    with open(\"/opt/dlami/nvme/mufan/agent/dis/code/config_files/test.json\", \"w\") as f:\n",
    "        f.write(raw)\n",
    "    # split to multiple files\n",
    "    data = json.loads(raw)\n",
    "    for idx, item in enumerate(data):\n",
    "        with open(f\"tasks/{idx}.json\", \"w\") as f:\n",
    "            json.dump(item, f, indent=2)\n",
    "\n",
    "\n",
    "if __name__ == \"__main__\":\n",
    "    main()"
   ]
  },
  {
   "cell_type": "code",
   "execution_count": 7,
   "metadata": {},
   "outputs": [
    {
     "name": "stdout",
     "output_type": "stream",
     "text": [
      "SHOPPING_ADMIN replaced value: http://127.0.0.1:7780/admin\n"
     ]
    }
   ],
   "source": [
    "\"\"\"Replace the website placeholders with website domains directly defined in the script\n",
    "Generate the test data\"\"\"\n",
    "\n",
    "import json\n",
    "\n",
    "# 明确定义网站的域名和路径\n",
    "PUBLIC_HOSTNAME = \"127.0.0.1\"\n",
    "SHOPPING = f\"http://{PUBLIC_HOSTNAME}:7770\"\n",
    "SHOPPING_ADMIN = f\"http://{PUBLIC_HOSTNAME}:7780/admin\"\n",
    "REDDIT = f\"http://{PUBLIC_HOSTNAME}:9999\"\n",
    "GITLAB = f\"http://{PUBLIC_HOSTNAME}:8023\"\n",
    "WIKIPEDIA = f\"http://{PUBLIC_HOSTNAME}:8888/wikipedia_en_all_maxi_2022-05/A/User:The_other_Kiwix_guy/Landing\"\n",
    "MAP = f\"http://{PUBLIC_HOSTNAME}:4000\"\n",
    "HOMEPAGE = f\"http://{PUBLIC_HOSTNAME}:4399\"\n",
    "\n",
    "\n",
    "def main() -> None:\n",
    "    # 读取原始 JSON 数据\n",
    "    with open(\"test.raw.json\", \"r\") as f:\n",
    "        raw = f.read()\n",
    "\n",
    "    # 替换占位符为明确定义的值\n",
    "    raw = raw.replace(\"__GITLAB__\", GITLAB)\n",
    "    raw = raw.replace(\"__REDDIT__\", REDDIT)\n",
    "    raw = raw.replace(\"__SHOPPING__\", SHOPPING)\n",
    "    raw = raw.replace(\"__SHOPPING_ADMIN__\", SHOPPING_ADMIN)\n",
    "    raw = raw.replace(\"__WIKIPEDIA__\", WIKIPEDIA)\n",
    "    raw = raw.replace(\"__MAP__\", MAP)\n",
    "\n",
    "    # 打印调试信息\n",
    "    print(f\"SHOPPING_ADMIN replaced value: {SHOPPING_ADMIN}\")\n",
    "\n",
    "    # 将替换后的数据写入目标文件\n",
    "    with open(\"/playpen/mufan/distillagent/parallel/code1/config_files/test.json\", \"w\") as f:\n",
    "        f.write(raw)\n",
    "\n",
    "    # 将 JSON 数据拆分为多个文件\n",
    "    data = json.loads(raw)\n",
    "    for idx, item in enumerate(data):\n",
    "        with open(f\"tasks/{idx}.json\", \"w\") as f:\n",
    "            json.dump(item, f, indent=2)\n",
    "\n",
    "\n",
    "if __name__ == \"__main__\":\n",
    "    main()"
   ]
  }
 ],
 "metadata": {
  "kernelspec": {
   "display_name": "webarena",
   "language": "python",
   "name": "python3"
  },
  "language_info": {
   "codemirror_mode": {
    "name": "ipython",
    "version": 3
   },
   "file_extension": ".py",
   "mimetype": "text/x-python",
   "name": "python",
   "nbconvert_exporter": "python",
   "pygments_lexer": "ipython3",
   "version": "3.10.15"
  }
 },
 "nbformat": 4,
 "nbformat_minor": 2
}
