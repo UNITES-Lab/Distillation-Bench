{
 "cells": [
  {
   "cell_type": "code",
   "execution_count": 1,
   "metadata": {},
   "outputs": [
    {
     "name": "stdout",
     "output_type": "stream",
     "text": [
      "[495, 54, 614, 384, 200, 130, 745, 0, 83, 464, 354, 797, 706, 608, 538, 222, 99, 56, 555, 420, 549, 620, 658, 45, 474, 72, 632, 478, 380, 654, 217, 316, 134, 546, 107, 376, 276, 696, 714, 434, 46, 330, 215, 596, 653, 723, 571, 129, 710, 132, 490, 748, 206, 186, 14, 235, 491, 584, 472, 570, 790, 142, 258, 213, 275, 187, 323, 374, 320, 543, 312, 802, 749, 594, 260, 769, 670, 299, 119, 708]\n"
     ]
    }
   ],
   "source": [
    "import random\n",
    "\n",
    "# 生成 0 到 812 之间的 80 个不重复的随机数\n",
    "random_numbers = random.sample(range(0, 813), 80)\n",
    "\n",
    "# 输出结果\n",
    "print(random_numbers)"
   ]
  }
 ],
 "metadata": {
  "kernelspec": {
   "display_name": "webarena",
   "language": "python",
   "name": "python3"
  },
  "language_info": {
   "codemirror_mode": {
    "name": "ipython",
    "version": 3
   },
   "file_extension": ".py",
   "mimetype": "text/x-python",
   "name": "python",
   "nbconvert_exporter": "python",
   "pygments_lexer": "ipython3",
   "version": "3.10.15"
  }
 },
 "nbformat": 4,
 "nbformat_minor": 2
}
